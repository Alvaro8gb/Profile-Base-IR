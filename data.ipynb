{
 "cells": [
  {
   "cell_type": "markdown",
   "metadata": {},
   "source": [
    "# EDA (Exploration Data Analysis)"
   ]
  },
  {
   "cell_type": "code",
   "execution_count": 1,
   "metadata": {},
   "outputs": [],
   "source": [
    "import pandas as pd\n",
    "\n",
    "from nltk import word_tokenize\n",
    "from nltk.corpus import stopwords\n",
    "from nltk.stem.lancaster import LancasterStemmer\n",
    "import string"
   ]
  },
  {
   "cell_type": "code",
   "execution_count": 2,
   "metadata": {},
   "outputs": [],
   "source": [
    "from globals import TRAINING_PATH, TEST_PATH, FINAL_DS, WORDS_PATH"
   ]
  },
  {
   "cell_type": "code",
   "execution_count": 3,
   "metadata": {},
   "outputs": [],
   "source": [
    "df_train = pd.read_csv(TRAINING_PATH)\n",
    "df_test = pd.read_csv(TEST_PATH)\n",
    "df_full = pd.concat([df_train, df_test], ignore_index=True)"
   ]
  },
  {
   "cell_type": "code",
   "execution_count": 4,
   "metadata": {},
   "outputs": [
    {
     "name": "stdout",
     "output_type": "stream",
     "text": [
      "Index(['ArticleId', 'Text', 'Category'], dtype='object')\n"
     ]
    }
   ],
   "source": [
    "print(df_full.columns)"
   ]
  },
  {
   "cell_type": "code",
   "execution_count": 5,
   "metadata": {},
   "outputs": [
    {
     "data": {
      "text/html": [
       "<div>\n",
       "<style scoped>\n",
       "    .dataframe tbody tr th:only-of-type {\n",
       "        vertical-align: middle;\n",
       "    }\n",
       "\n",
       "    .dataframe tbody tr th {\n",
       "        vertical-align: top;\n",
       "    }\n",
       "\n",
       "    .dataframe thead th {\n",
       "        text-align: right;\n",
       "    }\n",
       "</style>\n",
       "<table border=\"1\" class=\"dataframe\">\n",
       "  <thead>\n",
       "    <tr style=\"text-align: right;\">\n",
       "      <th></th>\n",
       "      <th>count</th>\n",
       "      <th>mean</th>\n",
       "      <th>std</th>\n",
       "      <th>min</th>\n",
       "      <th>25%</th>\n",
       "      <th>50%</th>\n",
       "      <th>75%</th>\n",
       "      <th>max</th>\n",
       "    </tr>\n",
       "  </thead>\n",
       "  <tbody>\n",
       "    <tr>\n",
       "      <th>ArticleId</th>\n",
       "      <td>2225.0</td>\n",
       "      <td>1113.0</td>\n",
       "      <td>642.446496</td>\n",
       "      <td>1.0</td>\n",
       "      <td>557.0</td>\n",
       "      <td>1113.0</td>\n",
       "      <td>1669.0</td>\n",
       "      <td>2225.0</td>\n",
       "    </tr>\n",
       "  </tbody>\n",
       "</table>\n",
       "</div>"
      ],
      "text/plain": [
       "            count    mean         std  min    25%     50%     75%     max\n",
       "ArticleId  2225.0  1113.0  642.446496  1.0  557.0  1113.0  1669.0  2225.0"
      ]
     },
     "execution_count": 5,
     "metadata": {},
     "output_type": "execute_result"
    }
   ],
   "source": [
    "df_full.describe().transpose()"
   ]
  },
  {
   "cell_type": "code",
   "execution_count": 6,
   "metadata": {},
   "outputs": [
    {
     "data": {
      "text/html": [
       "<div>\n",
       "<style scoped>\n",
       "    .dataframe tbody tr th:only-of-type {\n",
       "        vertical-align: middle;\n",
       "    }\n",
       "\n",
       "    .dataframe tbody tr th {\n",
       "        vertical-align: top;\n",
       "    }\n",
       "\n",
       "    .dataframe thead th {\n",
       "        text-align: right;\n",
       "    }\n",
       "</style>\n",
       "<table border=\"1\" class=\"dataframe\">\n",
       "  <thead>\n",
       "    <tr style=\"text-align: right;\">\n",
       "      <th></th>\n",
       "      <th>ArticleId</th>\n",
       "      <th>Text</th>\n",
       "      <th>Category</th>\n",
       "    </tr>\n",
       "  </thead>\n",
       "  <tbody>\n",
       "    <tr>\n",
       "      <th>0</th>\n",
       "      <td>1833</td>\n",
       "      <td>worldcom ex-boss launches defence lawyers defe...</td>\n",
       "      <td>business</td>\n",
       "    </tr>\n",
       "    <tr>\n",
       "      <th>1</th>\n",
       "      <td>154</td>\n",
       "      <td>german business confidence slides german busin...</td>\n",
       "      <td>business</td>\n",
       "    </tr>\n",
       "    <tr>\n",
       "      <th>2</th>\n",
       "      <td>1101</td>\n",
       "      <td>bbc poll indicates economic gloom citizens in ...</td>\n",
       "      <td>business</td>\n",
       "    </tr>\n",
       "    <tr>\n",
       "      <th>3</th>\n",
       "      <td>1976</td>\n",
       "      <td>lifestyle  governs mobile choice  faster  bett...</td>\n",
       "      <td>tech</td>\n",
       "    </tr>\n",
       "    <tr>\n",
       "      <th>4</th>\n",
       "      <td>917</td>\n",
       "      <td>enron bosses in $168m payout eighteen former e...</td>\n",
       "      <td>business</td>\n",
       "    </tr>\n",
       "  </tbody>\n",
       "</table>\n",
       "</div>"
      ],
      "text/plain": [
       "   ArticleId                                               Text  Category\n",
       "0       1833  worldcom ex-boss launches defence lawyers defe...  business\n",
       "1        154  german business confidence slides german busin...  business\n",
       "2       1101  bbc poll indicates economic gloom citizens in ...  business\n",
       "3       1976  lifestyle  governs mobile choice  faster  bett...      tech\n",
       "4        917  enron bosses in $168m payout eighteen former e...  business"
      ]
     },
     "execution_count": 6,
     "metadata": {},
     "output_type": "execute_result"
    }
   ],
   "source": [
    "df_full.head()"
   ]
  },
  {
   "cell_type": "code",
   "execution_count": 7,
   "metadata": {},
   "outputs": [
    {
     "data": {
      "text/plain": [
       "<Axes: ylabel='Category'>"
      ]
     },
     "execution_count": 7,
     "metadata": {},
     "output_type": "execute_result"
    },
    {
     "data": {
      "image/png": "[encoded data removed]",
      "text/plain": [
       "<Figure size 640x480 with 1 Axes>"
      ]
     },
     "metadata": {},
     "output_type": "display_data"
    }
   ],
   "source": [
    "df_full['Category'].value_counts().plot(kind='barh', color='#368F8B')\n"
   ]
  },
  {
   "cell_type": "code",
   "execution_count": 8,
   "metadata": {},
   "outputs": [
    {
     "data": {
      "text/plain": [
       "<Axes: ylabel='Frequency'>"
      ]
     },
     "execution_count": 8,
     "metadata": {},
     "output_type": "execute_result"
    },
    {
     "data": {
      "image/png": "[encoded data removed]",
      "text/plain": [
       "<Figure size 640x480 with 1 Axes>"
      ]
     },
     "metadata": {},
     "output_type": "display_data"
    }
   ],
   "source": [
    "df_full['Text_Length'] = df_full['Text'].apply(len)\n",
    "df_full['Text_Length'].plot(kind='hist', bins=25, color=\"#246A73\")"
   ]
  },
  {
   "cell_type": "code",
   "execution_count": 9,
   "metadata": {},
   "outputs": [
    {
     "data": {
      "text/plain": [
       "2262.936179775281"
      ]
     },
     "execution_count": 9,
     "metadata": {},
     "output_type": "execute_result"
    }
   ],
   "source": [
    "df_full['Text_Length'].mean()\n"
   ]
  },
  {
   "cell_type": "code",
   "execution_count": 10,
   "metadata": {},
   "outputs": [
    {
     "data": {
      "text/plain": [
       "['politics', 'tech', 'entertainment', 'business', 'sport']"
      ]
     },
     "execution_count": 10,
     "metadata": {},
     "output_type": "execute_result"
    }
   ],
   "source": [
    "categories = list(set(df_train['Category']))\n",
    "categories"
   ]
  },
  {
   "cell_type": "code",
   "execution_count": 11,
   "metadata": {},
   "outputs": [
    {
     "name": "stdout",
     "output_type": "stream",
     "text": [
      "{'the', 'when', 'most', 'yours', 'm', 'they', 'did', 're', 'and', 'what', 'where', 'she', 'each', \"she's\", 'theirs', \"don't\", 'once', \"you'll\", 'off', \"haven't\", 'doesn', 'is', 'them', \"that'll\", 'that', 'whom', 'his', 'those', 'needn', 'hasn', 't', 'into', 'will', \"wasn't\", 'who', 'haven', 'during', 'her', 'aren', 'be', \"mustn't\", 'out', 'so', 'don', 'hadn', \"hadn't\", 'under', 'more', 'in', 'now', 'not', 'shouldn', 'until', 'has', 'll', 'nor', 'itself', \"wouldn't\", 'my', 'have', 'was', 'myself', 'further', \"didn't\", 'to', 'its', 'while', 'here', 'y', 's', 'it', 'than', 'a', 'but', 'won', 'me', 'on', 'ma', \"aren't\", 'him', 'as', 'for', 'same', 'didn', 'own', 'ours', 'd', 'below', 'at', 'been', \"weren't\", 'few', 'down', \"won't\", 'no', 'do', \"isn't\", 'such', 'doing', 'between', \"shan't\", 'should', 'ain', 'which', 'being', \"you've\", 'other', 'ourselves', 'very', \"doesn't\", 'are', \"shouldn't\", 'our', 'with', 've', 'can', 'we', 'an', 'yourself', \"mightn't\", 'all', 'only', 'yourselves', \"needn't\", 'this', 'mustn', 'both', 'just', 'or', 'isn', 'wouldn', 'against', 'you', 'because', 'any', \"couldn't\", 'up', 'some', 'of', \"it's\", 'does', 'shan', 'from', 'were', \"hasn't\", 'had', 'weren', 'through', 'by', 'himself', 'about', 'before', 'over', 'after', 'again', 'there', 'o', 'wasn', 'mightn', 'if', 'then', 'i', 'herself', 'themselves', 'above', 'having', 'couldn', \"you're\", 'why', \"you'd\", 'your', 'too', 'am', 'hers', 'he', \"should've\", 'how', 'these', 'their'}\n"
     ]
    }
   ],
   "source": [
    "stoplist = set(stopwords.words('english'))\n",
    "print(stoplist)"
   ]
  },
  {
   "cell_type": "code",
   "execution_count": 12,
   "metadata": {},
   "outputs": [],
   "source": [
    "STOPLIST = set(stopwords.words('english'))"
   ]
  },
  {
   "cell_type": "code",
   "execution_count": 13,
   "metadata": {},
   "outputs": [],
   "source": [
    "def get_terms_fq(text):\n",
    "    terms = {}\n",
    "    st = LancasterStemmer()\n",
    "    word_list = [st.stem(word) for word in word_tokenize(text.lower())\n",
    "                 if not word in STOPLIST and not word in string.punctuation]\n",
    "\n",
    "    for word in word_list:\n",
    "        terms[word] = terms.get(word, 0) + 1\n",
    "    return terms"
   ]
  },
  {
   "cell_type": "code",
   "execution_count": 14,
   "metadata": {},
   "outputs": [],
   "source": [
    "def get_words(text):\n",
    "    word_list = [word for word in word_tokenize(text.lower())]\n",
    "    return word_list"
   ]
  },
  {
   "cell_type": "code",
   "execution_count": 15,
   "metadata": {},
   "outputs": [
    {
     "data": {
      "text/html": [
       "<div>\n",
       "<style scoped>\n",
       "    .dataframe tbody tr th:only-of-type {\n",
       "        vertical-align: middle;\n",
       "    }\n",
       "\n",
       "    .dataframe tbody tr th {\n",
       "        vertical-align: top;\n",
       "    }\n",
       "\n",
       "    .dataframe thead th {\n",
       "        text-align: right;\n",
       "    }\n",
       "</style>\n",
       "<table border=\"1\" class=\"dataframe\">\n",
       "  <thead>\n",
       "    <tr style=\"text-align: right;\">\n",
       "      <th></th>\n",
       "      <th>ArticleId</th>\n",
       "      <th>Text</th>\n",
       "      <th>Category</th>\n",
       "      <th>Text_Length</th>\n",
       "      <th>Words</th>\n",
       "      <th>Terms_Frequency</th>\n",
       "    </tr>\n",
       "  </thead>\n",
       "  <tbody>\n",
       "    <tr>\n",
       "      <th>0</th>\n",
       "      <td>1833</td>\n",
       "      <td>worldcom ex-boss launches defence lawyers defe...</td>\n",
       "      <td>business</td>\n",
       "      <td>1866</td>\n",
       "      <td>[worldcom, ex-boss, launches, defence, lawyers...</td>\n",
       "      <td>{'worldcom': 9, 'ex-boss': 1, 'launch': 1, 'de...</td>\n",
       "    </tr>\n",
       "    <tr>\n",
       "      <th>1</th>\n",
       "      <td>154</td>\n",
       "      <td>german business confidence slides german busin...</td>\n",
       "      <td>business</td>\n",
       "      <td>2016</td>\n",
       "      <td>[german, business, confidence, slides, german,...</td>\n",
       "      <td>{'germ': 4, 'busy': 3, 'confid': 5, 'slid': 1,...</td>\n",
       "    </tr>\n",
       "    <tr>\n",
       "      <th>2</th>\n",
       "      <td>1101</td>\n",
       "      <td>bbc poll indicates economic gloom citizens in ...</td>\n",
       "      <td>business</td>\n",
       "      <td>3104</td>\n",
       "      <td>[bbc, poll, indicates, economic, gloom, citize...</td>\n",
       "      <td>{'bbc': 5, 'pol': 7, 'ind': 2, 'econom': 13, '...</td>\n",
       "    </tr>\n",
       "    <tr>\n",
       "      <th>3</th>\n",
       "      <td>1976</td>\n",
       "      <td>lifestyle  governs mobile choice  faster  bett...</td>\n",
       "      <td>tech</td>\n",
       "      <td>3618</td>\n",
       "      <td>[lifestyle, governs, mobile, choice, faster, b...</td>\n",
       "      <td>{'lifestyl': 3, 'govern': 2, 'mobl': 7, 'cho':...</td>\n",
       "    </tr>\n",
       "    <tr>\n",
       "      <th>4</th>\n",
       "      <td>917</td>\n",
       "      <td>enron bosses in $168m payout eighteen former e...</td>\n",
       "      <td>business</td>\n",
       "      <td>2190</td>\n",
       "      <td>[enron, bosses, in, $, 168m, payout, eighteen,...</td>\n",
       "      <td>{'enron': 7, 'boss': 1, '168m': 3, 'payout': 1...</td>\n",
       "    </tr>\n",
       "    <tr>\n",
       "      <th>...</th>\n",
       "      <td>...</td>\n",
       "      <td>...</td>\n",
       "      <td>...</td>\n",
       "      <td>...</td>\n",
       "      <td>...</td>\n",
       "      <td>...</td>\n",
       "    </tr>\n",
       "    <tr>\n",
       "      <th>2220</th>\n",
       "      <td>1923</td>\n",
       "      <td>eu to probe alitalia  state aid  the european ...</td>\n",
       "      <td>sport</td>\n",
       "      <td>1750</td>\n",
       "      <td>[eu, to, probe, alitalia, state, aid, the, eur...</td>\n",
       "      <td>{'eu': 3, 'prob': 1, 'alital': 7, 'stat': 8, '...</td>\n",
       "    </tr>\n",
       "    <tr>\n",
       "      <th>2221</th>\n",
       "      <td>373</td>\n",
       "      <td>u2 to play at grammy awards show irish rock ba...</td>\n",
       "      <td>tech</td>\n",
       "      <td>1078</td>\n",
       "      <td>[u2, to, play, at, grammy, awards, show, irish...</td>\n",
       "      <td>{'u2': 4, 'play': 3, 'grammy': 4, 'award': 5, ...</td>\n",
       "    </tr>\n",
       "    <tr>\n",
       "      <th>2222</th>\n",
       "      <td>1704</td>\n",
       "      <td>sport betting rules in spotlight a group of mp...</td>\n",
       "      <td>business</td>\n",
       "      <td>2252</td>\n",
       "      <td>[sport, betting, rules, in, spotlight, a, grou...</td>\n",
       "      <td>{'sport': 8, 'bet': 15, 'rul': 1, 'spotlight':...</td>\n",
       "    </tr>\n",
       "    <tr>\n",
       "      <th>2223</th>\n",
       "      <td>206</td>\n",
       "      <td>alfa romeos  to get gm engines  fiat is to sto...</td>\n",
       "      <td>entertainment</td>\n",
       "      <td>1474</td>\n",
       "      <td>[alfa, romeos, to, get, gm, engines, fiat, is,...</td>\n",
       "      <td>{'alf': 5, 'romeo': 5, 'get': 2, 'gm': 6, 'eng...</td>\n",
       "    </tr>\n",
       "    <tr>\n",
       "      <th>2224</th>\n",
       "      <td>471</td>\n",
       "      <td>citizenship event for 18s touted citizenship c...</td>\n",
       "      <td>politics</td>\n",
       "      <td>3106</td>\n",
       "      <td>[citizenship, event, for, 18s, touted, citizen...</td>\n",
       "      <td>{'cit': 4, 'ev': 1, '18s': 1, 'tout': 1, 'cere...</td>\n",
       "    </tr>\n",
       "  </tbody>\n",
       "</table>\n",
       "<p>2225 rows × 6 columns</p>\n",
       "</div>"
      ],
      "text/plain": [
       "      ArticleId                                               Text  \\\n",
       "0          1833  worldcom ex-boss launches defence lawyers defe...   \n",
       "1           154  german business confidence slides german busin...   \n",
       "2          1101  bbc poll indicates economic gloom citizens in ...   \n",
       "3          1976  lifestyle  governs mobile choice  faster  bett...   \n",
       "4           917  enron bosses in $168m payout eighteen former e...   \n",
       "...         ...                                                ...   \n",
       "2220       1923  eu to probe alitalia  state aid  the european ...   \n",
       "2221        373  u2 to play at grammy awards show irish rock ba...   \n",
       "2222       1704  sport betting rules in spotlight a group of mp...   \n",
       "2223        206  alfa romeos  to get gm engines  fiat is to sto...   \n",
       "2224        471  citizenship event for 18s touted citizenship c...   \n",
       "\n",
       "           Category  Text_Length  \\\n",
       "0          business         1866   \n",
       "1          business         2016   \n",
       "2          business         3104   \n",
       "3              tech         3618   \n",
       "4          business         2190   \n",
       "...             ...          ...   \n",
       "2220          sport         1750   \n",
       "2221           tech         1078   \n",
       "2222       business         2252   \n",
       "2223  entertainment         1474   \n",
       "2224       politics         3106   \n",
       "\n",
       "                                                  Words  \\\n",
       "0     [worldcom, ex-boss, launches, defence, lawyers...   \n",
       "1     [german, business, confidence, slides, german,...   \n",
       "2     [bbc, poll, indicates, economic, gloom, citize...   \n",
       "3     [lifestyle, governs, mobile, choice, faster, b...   \n",
       "4     [enron, bosses, in, $, 168m, payout, eighteen,...   \n",
       "...                                                 ...   \n",
       "2220  [eu, to, probe, alitalia, state, aid, the, eur...   \n",
       "2221  [u2, to, play, at, grammy, awards, show, irish...   \n",
       "2222  [sport, betting, rules, in, spotlight, a, grou...   \n",
       "2223  [alfa, romeos, to, get, gm, engines, fiat, is,...   \n",
       "2224  [citizenship, event, for, 18s, touted, citizen...   \n",
       "\n",
       "                                        Terms_Frequency  \n",
       "0     {'worldcom': 9, 'ex-boss': 1, 'launch': 1, 'de...  \n",
       "1     {'germ': 4, 'busy': 3, 'confid': 5, 'slid': 1,...  \n",
       "2     {'bbc': 5, 'pol': 7, 'ind': 2, 'econom': 13, '...  \n",
       "3     {'lifestyl': 3, 'govern': 2, 'mobl': 7, 'cho':...  \n",
       "4     {'enron': 7, 'boss': 1, '168m': 3, 'payout': 1...  \n",
       "...                                                 ...  \n",
       "2220  {'eu': 3, 'prob': 1, 'alital': 7, 'stat': 8, '...  \n",
       "2221  {'u2': 4, 'play': 3, 'grammy': 4, 'award': 5, ...  \n",
       "2222  {'sport': 8, 'bet': 15, 'rul': 1, 'spotlight':...  \n",
       "2223  {'alf': 5, 'romeo': 5, 'get': 2, 'gm': 6, 'eng...  \n",
       "2224  {'cit': 4, 'ev': 1, '18s': 1, 'tout': 1, 'cere...  \n",
       "\n",
       "[2225 rows x 6 columns]"
      ]
     },
     "execution_count": 15,
     "metadata": {},
     "output_type": "execute_result"
    }
   ],
   "source": [
    "df_full['Words'] = df_full['Text'].apply(get_words)\n",
    "df_full['Terms_Frequency'] = df_full['Text'].apply(get_terms_fq)\n",
    "df_full"
   ]
  },
  {
   "cell_type": "markdown",
   "metadata": {},
   "source": [
    "# See terms frequency"
   ]
  },
  {
   "cell_type": "code",
   "execution_count": 16,
   "metadata": {},
   "outputs": [],
   "source": [
    "maxis = {c: [] for c in categories}\n",
    "\n",
    "for i, row in df_full.iterrows():\n",
    "    terms_fq = row[\"Terms_Frequency\"]\n",
    "    max_value = max(terms_fq.values())\n",
    "    max_keys = [k for k, v in terms_fq.items() if v == max_value]\n",
    "    maxis[row[\"Category\"]].append(max_keys[0])\n",
    "\n",
    "\n",
    "\n",
    "for cat, words in maxis.items():\n",
    "    maxis[cat] = list(set(words))"
   ]
  },
  {
   "cell_type": "code",
   "execution_count": 17,
   "metadata": {},
   "outputs": [],
   "source": [
    "import json\n",
    "\n",
    "with open(WORDS_PATH, \"w\") as f:\n",
    "    json.dump(maxis, f)\n"
   ]
  },
  {
   "cell_type": "markdown",
   "metadata": {},
   "source": [
    "# Coomon words"
   ]
  },
  {
   "cell_type": "code",
   "execution_count": 18,
   "metadata": {},
   "outputs": [
    {
     "data": {
      "text/plain": [
       "{'politics': {'.', 'the', 'to'},\n",
       " 'tech': {'.', 'and', 'the'},\n",
       " 'entertainment': {'.', 'the'},\n",
       " 'business': {'.', 'the'},\n",
       " 'sport': {'.', 'the'}}"
      ]
     },
     "execution_count": 18,
     "metadata": {},
     "output_type": "execute_result"
    }
   ],
   "source": [
    "common_words_category = {}\n",
    "\n",
    "for category in categories:\n",
    "    category_words = df_full[df_full['Category'] == category]['Words'].tolist()\n",
    "    sets_list = [set(words) for words in category_words]\n",
    "    common_words = set.intersection(*sets_list)\n",
    "    common_words_category[category] =  common_words\n",
    "\n",
    "common_words_category"
   ]
  },
  {
   "cell_type": "markdown",
   "metadata": {},
   "source": [
    "# Dump DS"
   ]
  },
  {
   "cell_type": "code",
   "execution_count": 19,
   "metadata": {},
   "outputs": [],
   "source": [
    "df_full.to_csv(FINAL_DS, index=False)"
   ]
  },
  {
   "cell_type": "code",
   "execution_count": 20,
   "metadata": {},
   "outputs": [],
   "source": [
    "from globals import CORPUS_PATH \n",
    "from models import Doc\n",
    "from utils import dump_corpus"
   ]
  },
  {
   "cell_type": "code",
   "execution_count": 21,
   "metadata": {},
   "outputs": [],
   "source": [
    "\n",
    "\n",
    "corpus = []\n",
    "\n",
    "for index, row in df_full.iterrows():\n",
    "    doc = Doc(id=index+1, category=row['Category'], content=row['Text'])\n",
    "    corpus.append(doc)\n",
    "\n",
    "dump_corpus(CORPUS_PATH, corpus)\n"
   ]
  },
  {
   "cell_type": "markdown",
   "metadata": {},
   "source": [
    "# Integrate test"
   ]
  },
  {
   "cell_type": "code",
   "execution_count": 22,
   "metadata": {},
   "outputs": [],
   "source": [
    "df_docs_tes = pd.read_csv(\"../data/learn-ai-bbc/test_docs.csv\")\n",
    "df_labels_test = pd.read_csv(\"../data/learn-ai-bbc/test_classes.csv\")"
   ]
  },
  {
   "cell_type": "code",
   "execution_count": 23,
   "metadata": {},
   "outputs": [
    {
     "data": {
      "text/html": [
       "<div>\n",
       "<style scoped>\n",
       "    .dataframe tbody tr th:only-of-type {\n",
       "        vertical-align: middle;\n",
       "    }\n",
       "\n",
       "    .dataframe tbody tr th {\n",
       "        vertical-align: top;\n",
       "    }\n",
       "\n",
       "    .dataframe thead th {\n",
       "        text-align: right;\n",
       "    }\n",
       "</style>\n",
       "<table border=\"1\" class=\"dataframe\">\n",
       "  <thead>\n",
       "    <tr style=\"text-align: right;\">\n",
       "      <th></th>\n",
       "      <th>count</th>\n",
       "      <th>mean</th>\n",
       "      <th>std</th>\n",
       "      <th>min</th>\n",
       "      <th>25%</th>\n",
       "      <th>50%</th>\n",
       "      <th>75%</th>\n",
       "      <th>max</th>\n",
       "    </tr>\n",
       "  </thead>\n",
       "  <tbody>\n",
       "    <tr>\n",
       "      <th>ArticleId</th>\n",
       "      <td>735.0</td>\n",
       "      <td>1099.42449</td>\n",
       "      <td>643.925514</td>\n",
       "      <td>1.0</td>\n",
       "      <td>545.5</td>\n",
       "      <td>1116.0</td>\n",
       "      <td>1657.5</td>\n",
       "      <td>2225.0</td>\n",
       "    </tr>\n",
       "  </tbody>\n",
       "</table>\n",
       "</div>"
      ],
      "text/plain": [
       "           count        mean         std  min    25%     50%     75%     max\n",
       "ArticleId  735.0  1099.42449  643.925514  1.0  545.5  1116.0  1657.5  2225.0"
      ]
     },
     "execution_count": 23,
     "metadata": {},
     "output_type": "execute_result"
    }
   ],
   "source": [
    "df_docs_tes.describe().transpose()"
   ]
  },
  {
   "cell_type": "code",
   "execution_count": 24,
   "metadata": {},
   "outputs": [],
   "source": [
    "dict_docs = df_docs_tes.to_dict(orient='records')"
   ]
  },
  {
   "cell_type": "code",
   "execution_count": 25,
   "metadata": {},
   "outputs": [
    {
     "data": {
      "text/html": [
       "<div>\n",
       "<style scoped>\n",
       "    .dataframe tbody tr th:only-of-type {\n",
       "        vertical-align: middle;\n",
       "    }\n",
       "\n",
       "    .dataframe tbody tr th {\n",
       "        vertical-align: top;\n",
       "    }\n",
       "\n",
       "    .dataframe thead th {\n",
       "        text-align: right;\n",
       "    }\n",
       "</style>\n",
       "<table border=\"1\" class=\"dataframe\">\n",
       "  <thead>\n",
       "    <tr style=\"text-align: right;\">\n",
       "      <th></th>\n",
       "      <th>ArticleId</th>\n",
       "      <th>Text</th>\n",
       "      <th>Category</th>\n",
       "    </tr>\n",
       "  </thead>\n",
       "  <tbody>\n",
       "    <tr>\n",
       "      <th>0</th>\n",
       "      <td>1018</td>\n",
       "      <td>qpr keeper day heads for preston queens park r...</td>\n",
       "      <td>sport</td>\n",
       "    </tr>\n",
       "    <tr>\n",
       "      <th>1</th>\n",
       "      <td>1319</td>\n",
       "      <td>software watching while you work software that...</td>\n",
       "      <td>tech</td>\n",
       "    </tr>\n",
       "    <tr>\n",
       "      <th>2</th>\n",
       "      <td>1138</td>\n",
       "      <td>d arcy injury adds to ireland woe gordon d arc...</td>\n",
       "      <td>business</td>\n",
       "    </tr>\n",
       "    <tr>\n",
       "      <th>3</th>\n",
       "      <td>459</td>\n",
       "      <td>india s reliance family feud heats up the ongo...</td>\n",
       "      <td>entertainment</td>\n",
       "    </tr>\n",
       "    <tr>\n",
       "      <th>4</th>\n",
       "      <td>1020</td>\n",
       "      <td>boro suffer morrison injury blow middlesbrough...</td>\n",
       "      <td>politics</td>\n",
       "    </tr>\n",
       "    <tr>\n",
       "      <th>...</th>\n",
       "      <td>...</td>\n",
       "      <td>...</td>\n",
       "      <td>...</td>\n",
       "    </tr>\n",
       "    <tr>\n",
       "      <th>730</th>\n",
       "      <td>1923</td>\n",
       "      <td>eu to probe alitalia  state aid  the european ...</td>\n",
       "      <td>sport</td>\n",
       "    </tr>\n",
       "    <tr>\n",
       "      <th>731</th>\n",
       "      <td>373</td>\n",
       "      <td>u2 to play at grammy awards show irish rock ba...</td>\n",
       "      <td>tech</td>\n",
       "    </tr>\n",
       "    <tr>\n",
       "      <th>732</th>\n",
       "      <td>1704</td>\n",
       "      <td>sport betting rules in spotlight a group of mp...</td>\n",
       "      <td>business</td>\n",
       "    </tr>\n",
       "    <tr>\n",
       "      <th>733</th>\n",
       "      <td>206</td>\n",
       "      <td>alfa romeos  to get gm engines  fiat is to sto...</td>\n",
       "      <td>entertainment</td>\n",
       "    </tr>\n",
       "    <tr>\n",
       "      <th>734</th>\n",
       "      <td>471</td>\n",
       "      <td>citizenship event for 18s touted citizenship c...</td>\n",
       "      <td>politics</td>\n",
       "    </tr>\n",
       "  </tbody>\n",
       "</table>\n",
       "<p>735 rows × 3 columns</p>\n",
       "</div>"
      ],
      "text/plain": [
       "     ArticleId                                               Text  \\\n",
       "0         1018  qpr keeper day heads for preston queens park r...   \n",
       "1         1319  software watching while you work software that...   \n",
       "2         1138  d arcy injury adds to ireland woe gordon d arc...   \n",
       "3          459  india s reliance family feud heats up the ongo...   \n",
       "4         1020  boro suffer morrison injury blow middlesbrough...   \n",
       "..         ...                                                ...   \n",
       "730       1923  eu to probe alitalia  state aid  the european ...   \n",
       "731        373  u2 to play at grammy awards show irish rock ba...   \n",
       "732       1704  sport betting rules in spotlight a group of mp...   \n",
       "733        206  alfa romeos  to get gm engines  fiat is to sto...   \n",
       "734        471  citizenship event for 18s touted citizenship c...   \n",
       "\n",
       "          Category  \n",
       "0            sport  \n",
       "1             tech  \n",
       "2         business  \n",
       "3    entertainment  \n",
       "4         politics  \n",
       "..             ...  \n",
       "730          sport  \n",
       "731           tech  \n",
       "732       business  \n",
       "733  entertainment  \n",
       "734       politics  \n",
       "\n",
       "[735 rows x 3 columns]"
      ]
     },
     "execution_count": 25,
     "metadata": {},
     "output_type": "execute_result"
    }
   ],
   "source": [
    "merged_df = pd.merge(df_docs_tes, df_labels_test, on='ArticleId')\n",
    "merged_df"
   ]
  },
  {
   "cell_type": "code",
   "execution_count": 26,
   "metadata": {},
   "outputs": [],
   "source": [
    "merged_df.to_csv(\"../data/learn-ai-bbc/BBC News Test.csv\", index=False)"
   ]
  }
 ],
 "metadata": {
  "kernelspec": {
   "display_name": ".venv",
   "language": "python",
   "name": "python3"
  },
  "language_info": {
   "codemirror_mode": {
    "name": "ipython",
    "version": 3
   },
   "file_extension": ".py",
   "mimetype": "text/x-python",
   "name": "python",
   "nbconvert_exporter": "python",
   "pygments_lexer": "ipython3",
   "version": "3.10.12"
  }
 },
 "nbformat": 4,
 "nbformat_minor": 2
}
